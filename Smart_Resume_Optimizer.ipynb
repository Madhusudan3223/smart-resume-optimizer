{
  "nbformat": 4,
  "nbformat_minor": 0,
  "metadata": {
    "colab": {
      "provenance": [],
      "authorship_tag": "ABX9TyNkEWflOydaXfn0jBpdD1ZD",
      "include_colab_link": true
    },
    "kernelspec": {
      "name": "python3",
      "display_name": "Python 3"
    },
    "language_info": {
      "name": "python"
    }
  },
  "cells": [
    {
      "cell_type": "markdown",
      "metadata": {
        "id": "view-in-github",
        "colab_type": "text"
      },
      "source": [
        "<a href=\"https://colab.research.google.com/github/Madhusudan3223/smart-resume-optimizer/blob/main/Smart_Resume_Optimizer.ipynb\" target=\"_parent\"><img src=\"https://colab.research.google.com/assets/colab-badge.svg\" alt=\"Open In Colab\"/></a>"
      ]
    },
    {
      "cell_type": "markdown",
      "source": [
        "# 🧠 Smart Resume Optimizer\n",
        "AI-powered tool to compare  resume against job descriptions and identify matched & missing keywords for better job alignment.\n"
      ],
      "metadata": {
        "id": "ZTWGakpBSwLD"
      }
    },
    {
      "cell_type": "markdown",
      "source": [
        "\n",
        "## 📌 Overview\n",
        "\n",
        "This Resume Optimizer uses Python and basic NLP techniques to:\n",
        "- ✅ Extract keywords from job descriptions\n",
        "- ✅ Match them with your resume\n",
        "- ✅ Show what skills or keywords you're missing\n",
        "Great for improving your chances with ATS (Applicant Tracking Systems).\n",
        "\n",
        " ## 🚀 Features\n",
        "\n",
        "- 📄 Upload Resume (.pdf or .docx)\n",
        "- 📝 Upload Job Description (.txt)\n",
        "- 🔍 Keyword Matching (Matched / Missing)\n",
        "- ⚙️ Simple, Interactive Interface\n",
        "- 💡 Improve your resume before applying!\n",
        "\n",
        "## 🧪 How to Use\n",
        "\n",
        "1. Upload your resume (`.pdf` or `.docx`)\n",
        "2. Upload the job description (`.txt`)\n",
        "3. Run all code cells\n",
        "4. Get matched & missing keywords in seconds\n",
        "\n",
        "## 📊 Sample Output\n",
        "\n",
        "- ✅ Matched Keywords:\n",
        "  - Python, Machine Learning, Streamlit\n",
        "\n",
        "- ❌ Missing Keywords:\n",
        "  - Collaboration, Deployment, AWS, Engineering\n",
        "## 👤 Author\n",
        "\n",
        "**Madhusudan Mandal**  \n",
        "📍 Jamshedpur, India  \n",
        "📧 madhumandal49@gmail.com  \n",
        "🔗 [GitHub](https://github.com/Madhusudan3223)\n"
      ],
      "metadata": {
        "id": "jMkNEnSb5kq2"
      }
    },
    {
      "cell_type": "markdown",
      "source": [
        "## 🔧  Install Required Libraries\n",
        "\n",
        "We begin by installing the required Python libraries:\n",
        "- `PyMuPDF` for reading PDFs\n",
        "- `scikit-learn` for keyword extraction\n",
        "- `sentence-transformers` (optional future use for embeddings)"
      ],
      "metadata": {
        "id": "48c33uemS4Vz"
      }
    },
    {
      "cell_type": "code",
      "execution_count": 1,
      "metadata": {
        "colab": {
          "base_uri": "https://localhost:8080/"
        },
        "id": "bQiHW5QBr0U7",
        "outputId": "d42c9ad3-fcd2-415e-e148-258679f398a1"
      },
      "outputs": [
        {
          "output_type": "stream",
          "name": "stdout",
          "text": [
            "\u001b[2K   \u001b[90m━━━━━━━━━━━━━━━━━━━━━━━━━━━━━━━━━━━━━━━━\u001b[0m \u001b[32m24.1/24.1 MB\u001b[0m \u001b[31m46.9 MB/s\u001b[0m eta \u001b[36m0:00:00\u001b[0m\n",
            "\u001b[2K   \u001b[90m━━━━━━━━━━━━━━━━━━━━━━━━━━━━━━━━━━━━━━━━\u001b[0m \u001b[32m363.4/363.4 MB\u001b[0m \u001b[31m4.5 MB/s\u001b[0m eta \u001b[36m0:00:00\u001b[0m\n",
            "\u001b[2K   \u001b[90m━━━━━━━━━━━━━━━━━━━━━━━━━━━━━━━━━━━━━━━━\u001b[0m \u001b[32m13.8/13.8 MB\u001b[0m \u001b[31m40.7 MB/s\u001b[0m eta \u001b[36m0:00:00\u001b[0m\n",
            "\u001b[2K   \u001b[90m━━━━━━━━━━━━━━━━━━━━━━━━━━━━━━━━━━━━━━━━\u001b[0m \u001b[32m24.6/24.6 MB\u001b[0m \u001b[31m41.9 MB/s\u001b[0m eta \u001b[36m0:00:00\u001b[0m\n",
            "\u001b[2K   \u001b[90m━━━━━━━━━━━━━━━━━━━━━━━━━━━━━━━━━━━━━━━━\u001b[0m \u001b[32m883.7/883.7 kB\u001b[0m \u001b[31m49.3 MB/s\u001b[0m eta \u001b[36m0:00:00\u001b[0m\n",
            "\u001b[2K   \u001b[90m━━━━━━━━━━━━━━━━━━━━━━━━━━━━━━━━━━━━━━━━\u001b[0m \u001b[32m664.8/664.8 MB\u001b[0m \u001b[31m1.4 MB/s\u001b[0m eta \u001b[36m0:00:00\u001b[0m\n",
            "\u001b[2K   \u001b[90m━━━━━━━━━━━━━━━━━━━━━━━━━━━━━━━━━━━━━━━━\u001b[0m \u001b[32m211.5/211.5 MB\u001b[0m \u001b[31m2.7 MB/s\u001b[0m eta \u001b[36m0:00:00\u001b[0m\n",
            "\u001b[2K   \u001b[90m━━━━━━━━━━━━━━━━━━━━━━━━━━━━━━━━━━━━━━━━\u001b[0m \u001b[32m56.3/56.3 MB\u001b[0m \u001b[31m11.1 MB/s\u001b[0m eta \u001b[36m0:00:00\u001b[0m\n",
            "\u001b[2K   \u001b[90m━━━━━━━━━━━━━━━━━━━━━━━━━━━━━━━━━━━━━━━━\u001b[0m \u001b[32m127.9/127.9 MB\u001b[0m \u001b[31m8.1 MB/s\u001b[0m eta \u001b[36m0:00:00\u001b[0m\n",
            "\u001b[2K   \u001b[90m━━━━━━━━━━━━━━━━━━━━━━━━━━━━━━━━━━━━━━━━\u001b[0m \u001b[32m207.5/207.5 MB\u001b[0m \u001b[31m5.8 MB/s\u001b[0m eta \u001b[36m0:00:00\u001b[0m\n",
            "\u001b[2K   \u001b[90m━━━━━━━━━━━━━━━━━━━━━━━━━━━━━━━━━━━━━━━━\u001b[0m \u001b[32m21.1/21.1 MB\u001b[0m \u001b[31m46.5 MB/s\u001b[0m eta \u001b[36m0:00:00\u001b[0m\n",
            "\u001b[?25h"
          ]
        }
      ],
      "source": [
        "!pip install -q PyMuPDF scikit-learn sentence-transformers\n"
      ]
    },
    {
      "cell_type": "markdown",
      "source": [
        "## 📤 Upload Files (Resume & Job Description)\n",
        "\n",
        "Use the upload prompt below to upload your:\n",
        "- 📄 Resume (`.pdf` or `.docx`)\n",
        "- 📝 Job Description (`.txt`)\n",
        "\n",
        "These files will be used to compare keywords and optimize  resume.\n"
      ],
      "metadata": {
        "id": "h2ODJppf5tmM"
      }
    },
    {
      "cell_type": "code",
      "source": [
        "from google.colab import files\n",
        "\n",
        "uploaded = files.upload()\n"
      ],
      "metadata": {
        "colab": {
          "base_uri": "https://localhost:8080/",
          "height": 105
        },
        "id": "plAjJhWysHlm",
        "outputId": "0cdd6d00-8e20-4353-e9b6-909386a5db20"
      },
      "execution_count": 2,
      "outputs": [
        {
          "output_type": "display_data",
          "data": {
            "text/plain": [
              "<IPython.core.display.HTML object>"
            ],
            "text/html": [
              "\n",
              "     <input type=\"file\" id=\"files-407cc61f-ee9b-42c2-bda0-0f36546f0799\" name=\"files[]\" multiple disabled\n",
              "        style=\"border:none\" />\n",
              "     <output id=\"result-407cc61f-ee9b-42c2-bda0-0f36546f0799\">\n",
              "      Upload widget is only available when the cell has been executed in the\n",
              "      current browser session. Please rerun this cell to enable.\n",
              "      </output>\n",
              "      <script>// Copyright 2017 Google LLC\n",
              "//\n",
              "// Licensed under the Apache License, Version 2.0 (the \"License\");\n",
              "// you may not use this file except in compliance with the License.\n",
              "// You may obtain a copy of the License at\n",
              "//\n",
              "//      http://www.apache.org/licenses/LICENSE-2.0\n",
              "//\n",
              "// Unless required by applicable law or agreed to in writing, software\n",
              "// distributed under the License is distributed on an \"AS IS\" BASIS,\n",
              "// WITHOUT WARRANTIES OR CONDITIONS OF ANY KIND, either express or implied.\n",
              "// See the License for the specific language governing permissions and\n",
              "// limitations under the License.\n",
              "\n",
              "/**\n",
              " * @fileoverview Helpers for google.colab Python module.\n",
              " */\n",
              "(function(scope) {\n",
              "function span(text, styleAttributes = {}) {\n",
              "  const element = document.createElement('span');\n",
              "  element.textContent = text;\n",
              "  for (const key of Object.keys(styleAttributes)) {\n",
              "    element.style[key] = styleAttributes[key];\n",
              "  }\n",
              "  return element;\n",
              "}\n",
              "\n",
              "// Max number of bytes which will be uploaded at a time.\n",
              "const MAX_PAYLOAD_SIZE = 100 * 1024;\n",
              "\n",
              "function _uploadFiles(inputId, outputId) {\n",
              "  const steps = uploadFilesStep(inputId, outputId);\n",
              "  const outputElement = document.getElementById(outputId);\n",
              "  // Cache steps on the outputElement to make it available for the next call\n",
              "  // to uploadFilesContinue from Python.\n",
              "  outputElement.steps = steps;\n",
              "\n",
              "  return _uploadFilesContinue(outputId);\n",
              "}\n",
              "\n",
              "// This is roughly an async generator (not supported in the browser yet),\n",
              "// where there are multiple asynchronous steps and the Python side is going\n",
              "// to poll for completion of each step.\n",
              "// This uses a Promise to block the python side on completion of each step,\n",
              "// then passes the result of the previous step as the input to the next step.\n",
              "function _uploadFilesContinue(outputId) {\n",
              "  const outputElement = document.getElementById(outputId);\n",
              "  const steps = outputElement.steps;\n",
              "\n",
              "  const next = steps.next(outputElement.lastPromiseValue);\n",
              "  return Promise.resolve(next.value.promise).then((value) => {\n",
              "    // Cache the last promise value to make it available to the next\n",
              "    // step of the generator.\n",
              "    outputElement.lastPromiseValue = value;\n",
              "    return next.value.response;\n",
              "  });\n",
              "}\n",
              "\n",
              "/**\n",
              " * Generator function which is called between each async step of the upload\n",
              " * process.\n",
              " * @param {string} inputId Element ID of the input file picker element.\n",
              " * @param {string} outputId Element ID of the output display.\n",
              " * @return {!Iterable<!Object>} Iterable of next steps.\n",
              " */\n",
              "function* uploadFilesStep(inputId, outputId) {\n",
              "  const inputElement = document.getElementById(inputId);\n",
              "  inputElement.disabled = false;\n",
              "\n",
              "  const outputElement = document.getElementById(outputId);\n",
              "  outputElement.innerHTML = '';\n",
              "\n",
              "  const pickedPromise = new Promise((resolve) => {\n",
              "    inputElement.addEventListener('change', (e) => {\n",
              "      resolve(e.target.files);\n",
              "    });\n",
              "  });\n",
              "\n",
              "  const cancel = document.createElement('button');\n",
              "  inputElement.parentElement.appendChild(cancel);\n",
              "  cancel.textContent = 'Cancel upload';\n",
              "  const cancelPromise = new Promise((resolve) => {\n",
              "    cancel.onclick = () => {\n",
              "      resolve(null);\n",
              "    };\n",
              "  });\n",
              "\n",
              "  // Wait for the user to pick the files.\n",
              "  const files = yield {\n",
              "    promise: Promise.race([pickedPromise, cancelPromise]),\n",
              "    response: {\n",
              "      action: 'starting',\n",
              "    }\n",
              "  };\n",
              "\n",
              "  cancel.remove();\n",
              "\n",
              "  // Disable the input element since further picks are not allowed.\n",
              "  inputElement.disabled = true;\n",
              "\n",
              "  if (!files) {\n",
              "    return {\n",
              "      response: {\n",
              "        action: 'complete',\n",
              "      }\n",
              "    };\n",
              "  }\n",
              "\n",
              "  for (const file of files) {\n",
              "    const li = document.createElement('li');\n",
              "    li.append(span(file.name, {fontWeight: 'bold'}));\n",
              "    li.append(span(\n",
              "        `(${file.type || 'n/a'}) - ${file.size} bytes, ` +\n",
              "        `last modified: ${\n",
              "            file.lastModifiedDate ? file.lastModifiedDate.toLocaleDateString() :\n",
              "                                    'n/a'} - `));\n",
              "    const percent = span('0% done');\n",
              "    li.appendChild(percent);\n",
              "\n",
              "    outputElement.appendChild(li);\n",
              "\n",
              "    const fileDataPromise = new Promise((resolve) => {\n",
              "      const reader = new FileReader();\n",
              "      reader.onload = (e) => {\n",
              "        resolve(e.target.result);\n",
              "      };\n",
              "      reader.readAsArrayBuffer(file);\n",
              "    });\n",
              "    // Wait for the data to be ready.\n",
              "    let fileData = yield {\n",
              "      promise: fileDataPromise,\n",
              "      response: {\n",
              "        action: 'continue',\n",
              "      }\n",
              "    };\n",
              "\n",
              "    // Use a chunked sending to avoid message size limits. See b/62115660.\n",
              "    let position = 0;\n",
              "    do {\n",
              "      const length = Math.min(fileData.byteLength - position, MAX_PAYLOAD_SIZE);\n",
              "      const chunk = new Uint8Array(fileData, position, length);\n",
              "      position += length;\n",
              "\n",
              "      const base64 = btoa(String.fromCharCode.apply(null, chunk));\n",
              "      yield {\n",
              "        response: {\n",
              "          action: 'append',\n",
              "          file: file.name,\n",
              "          data: base64,\n",
              "        },\n",
              "      };\n",
              "\n",
              "      let percentDone = fileData.byteLength === 0 ?\n",
              "          100 :\n",
              "          Math.round((position / fileData.byteLength) * 100);\n",
              "      percent.textContent = `${percentDone}% done`;\n",
              "\n",
              "    } while (position < fileData.byteLength);\n",
              "  }\n",
              "\n",
              "  // All done.\n",
              "  yield {\n",
              "    response: {\n",
              "      action: 'complete',\n",
              "    }\n",
              "  };\n",
              "}\n",
              "\n",
              "scope.google = scope.google || {};\n",
              "scope.google.colab = scope.google.colab || {};\n",
              "scope.google.colab._files = {\n",
              "  _uploadFiles,\n",
              "  _uploadFilesContinue,\n",
              "};\n",
              "})(self);\n",
              "</script> "
            ]
          },
          "metadata": {}
        },
        {
          "output_type": "stream",
          "name": "stdout",
          "text": [
            "Saving job_description.txt to job_description.txt\n",
            "Saving resume AIML_3_compressed.pdf to resume AIML_3_compressed.pdf\n"
          ]
        }
      ]
    },
    {
      "cell_type": "markdown",
      "source": [
        "## 📄: Extract Text from Resume and Job Description\n",
        "\n",
        "We now extract raw text from:\n",
        "- Your **resume** using `PyMuPDF` (`fitz`)\n",
        "- The **job description** text file\n",
        "\n",
        "This allows us to analyze and match keywords in later steps.\n",
        "\n",
        "🔹 We also print a short preview of both to confirm correct file loading.\n"
      ],
      "metadata": {
        "id": "LazPpmRP56xp"
      }
    },
    {
      "cell_type": "code",
      "source": [
        "import fitz  # PyMuPDF\n",
        "import os\n",
        "\n",
        "# Extract resume text from PDF\n",
        "def extract_text_from_pdf(pdf_path):\n",
        "    doc = fitz.open(pdf_path)\n",
        "    text = \"\"\n",
        "    for page in doc:\n",
        "        text += page.get_text()\n",
        "    return text\n",
        "\n",
        "# Read job description from txt file\n",
        "def read_text_file(txt_path):\n",
        "    with open(txt_path, 'r', encoding='utf-8') as f:\n",
        "        return f.read()\n",
        "\n",
        "# Paths\n",
        "resume_path = \"resume AIML_3_compressed.pdf\"\n",
        "jd_path = \"job_description.txt\"\n",
        "\n",
        "# Extract text\n",
        "resume_text = extract_text_from_pdf(resume_path)\n",
        "job_description_text = read_text_file(jd_path)\n",
        "\n",
        "# Print preview\n",
        "print(\"✅ Resume Preview:\\n\", resume_text[:500], \"\\n\\n---\")\n",
        "print(\"✅ Job Description Preview:\\n\", job_description_text[:500])\n"
      ],
      "metadata": {
        "colab": {
          "base_uri": "https://localhost:8080/"
        },
        "id": "-DGBe7HJswts",
        "outputId": "3c3cf6c8-903c-4993-ea4f-580ca389c252"
      },
      "execution_count": 3,
      "outputs": [
        {
          "output_type": "stream",
          "name": "stdout",
          "text": [
            "✅ Resume Preview:\n",
            "           Madhusudan Mandal \n",
            "+91 9304190347                  \n",
            " madhumandal49@gmail.com            \n",
            "  https://github.com/Madhusudan3223 \n",
            "Professional Summary \n",
            "AI/ML Developer and Data Analyst with practical experience in developing intelligent systems, generative AI tools, \n",
            "and data-driven applications. Proficient in Python, Streamlit, Gradio, CrewAI, Cohere, Gemini/OpenAI \n",
            "Successfully built projects including AutoDev Lite (AI Code Agent), ColabGPT (RAG Chatbot), LiveFakeGuard (Fake \n",
            "News Detect \n",
            "\n",
            "---\n",
            "✅ Job Description Preview:\n",
            " Job Title: Machine Learning Engineer\n",
            "\n",
            "Company Overview:\n",
            "We are a fast-growing AI-driven startup building innovative solutions for enterprises. Our goal is to transform how organizations leverage data and machine learning to drive decision-making.\n",
            "\n",
            "Responsibilities:\n",
            "- Design and implement scalable machine learning models.\n",
            "- Preprocess and analyze large datasets.\n",
            "- Collaborate with product and engineering teams to deploy models in production.\n",
            "- Conduct experiments and evaluate model performance.\n",
            "-\n"
          ]
        }
      ]
    },
    {
      "cell_type": "markdown",
      "source": [
        "# Keyword Extraction and Matching between Resume and Job Description\n",
        "\n",
        "This code extracts and compares important keywords from a resume and a job description (JD) to identify which keywords from the JD are already present in the resume and which are missing.\n",
        "\n",
        "---\n",
        "\n",
        "### Steps:\n",
        "\n",
        "1. **Text Cleaning:**  \n",
        "   Removes punctuation and converts all text to lowercase to standardize the inputs.\n",
        "\n",
        "2. **Keyword Extraction:**  \n",
        "   Uses `CountVectorizer` from `scikit-learn` with English stop words removal to extract the top N keywords by frequency from both resume and JD.\n",
        "\n",
        "3. **Matching & Missing Keywords:**  \n",
        "   Compares the sets of keywords to find:  \n",
        "   - Keywords present in both resume and JD (matched)  \n",
        "   - Keywords present in JD but missing in resume (missing), which can be added to improve resume relevance."
      ],
      "metadata": {
        "id": "Yx7MZwRC7lae"
      }
    },
    {
      "cell_type": "code",
      "source": [
        "import re\n",
        "from sklearn.feature_extraction.text import CountVectorizer\n",
        "\n",
        "# Clean text\n",
        "def clean_text(text):\n",
        "    text = re.sub(r'[^\\w\\s]', '', text)  # Remove punctuation\n",
        "    return text.lower()\n",
        "\n",
        "# Extract keywords using basic CountVectorizer\n",
        "def extract_keywords(text, top_n=20):\n",
        "    vectorizer = CountVectorizer(stop_words='english', max_features=top_n)\n",
        "    X = vectorizer.fit_transform([text])\n",
        "    return vectorizer.get_feature_names_out()\n",
        "\n",
        "# Cleaned texts\n",
        "cleaned_resume = clean_text(resume_text)\n",
        "cleaned_jd = clean_text(job_description_text)\n",
        "\n",
        "# Extract keywords\n",
        "resume_keywords = set(extract_keywords(cleaned_resume, top_n=30))\n",
        "jd_keywords = set(extract_keywords(cleaned_jd, top_n=30))\n",
        "\n",
        "# Match & difference\n",
        "matched = resume_keywords & jd_keywords\n",
        "missing = jd_keywords - resume_keywords\n",
        "\n",
        "# Show results\n",
        "print(\"✅ Matched Keywords in Resume:\\n\", matched)\n",
        "print(\"\\n❌ Missing Keywords (consider adding to resume):\\n\", missing)\n"
      ],
      "metadata": {
        "colab": {
          "base_uri": "https://localhost:8080/"
        },
        "id": "N5tpx_Ets5i6",
        "outputId": "ba937caf-8378-45b6-afa1-c5c188df29a0"
      },
      "execution_count": 4,
      "outputs": [
        {
          "output_type": "stream",
          "name": "stdout",
          "text": [
            "✅ Matched Keywords in Resume:\n",
            " {'data', 'learning', 'model'}\n",
            "\n",
            "❌ Missing Keywords (consider adding to resume):\n",
            " {'machine', 'contributions', 'collaborate', 'datasets', 'enterprises', 'company', 'cloud', 'evaluate', 'deploy', 'aidriven', 'models', 'azure', 'aws', 'drive', 'communication', 'design', 'conduct', 'building', 'engineering', 'understanding', 'ml', 'engineer', 'research', 'experience', 'decisionmaking', 'deployment', 'computer'}\n"
          ]
        }
      ]
    },
    {
      "cell_type": "code",
      "source": [],
      "metadata": {
        "id": "a4oobuYAs_6l"
      },
      "execution_count": null,
      "outputs": []
    }
  ]
}